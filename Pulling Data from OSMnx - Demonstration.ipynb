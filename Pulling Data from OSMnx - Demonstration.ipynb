{
 "cells": [
  {
   "cell_type": "markdown",
   "metadata": {},
   "source": [
    "# 1. Intro\n",
    "This notebook demonstrates the process of gathering local amenity data from OpenStreetMap. Local amenity data of this sort could be used to improve the accuracy of a whole range of ML models. In this notebook, the idea is that that presence of these amenities could help us predict what an AirBnb host might charge.\n",
    "\n",
    "In this notebook we cover the following:\n",
    "\n",
    "- How to make basic requests from OpenStreetMap using OSMnx\n",
    "- How to efficiently calculate the number of amenities that fall within a 5 minute walk of each AirBnb (approximately 0.5km distance)."
   ]
  },
  {
   "cell_type": "markdown",
   "metadata": {},
   "source": [
    "# 2. Accessing OSM with OSMnx"
   ]
  },
  {
   "cell_type": "code",
   "execution_count": 1,
   "metadata": {},
   "outputs": [],
   "source": [
    "# Import visualisation modules\n",
    "import matplotlib as mpl \n",
    "%matplotlib inline \n",
    "import matplotlib.pyplot as plt \n",
    "\n",
    "#Import modules\n",
    "import osmnx as ox\n",
    "import pandas as pd\n",
    "import geopandas as gpd\n",
    "import numpy as np\n",
    "\n",
    "import warnings \n",
    "warnings.simplefilter(action='ignore')"
   ]
  },
  {
   "cell_type": "markdown",
   "metadata": {},
   "source": [
    "### Basic OSMnx Query\n",
    "All queries follow the following dictionary format: {'feature_type' : 'feature'}. A full list of OSMnx features can be found [here](https://wiki.openstreetmap.org/wiki/Map_Features). Note, the quality and accuracy of features may vary. OSMnx returns a geopandas dataframe (basically a pandas dataframe with longitude and latitude geometry built into it). It may take a few minutes to download the data."
   ]
  },
  {
   "cell_type": "code",
   "execution_count": 2,
   "metadata": {},
   "outputs": [
    {
     "data": {
      "text/html": [
       "<div>\n",
       "<style scoped>\n",
       "    .dataframe tbody tr th:only-of-type {\n",
       "        vertical-align: middle;\n",
       "    }\n",
       "\n",
       "    .dataframe tbody tr th {\n",
       "        vertical-align: top;\n",
       "    }\n",
       "\n",
       "    .dataframe thead th {\n",
       "        text-align: right;\n",
       "    }\n",
       "</style>\n",
       "<table border=\"1\" class=\"dataframe\">\n",
       "  <thead>\n",
       "    <tr style=\"text-align: right;\">\n",
       "      <th></th>\n",
       "      <th>unique_id</th>\n",
       "      <th>osmid</th>\n",
       "      <th>element_type</th>\n",
       "      <th>amenity</th>\n",
       "      <th>name</th>\n",
       "      <th>geometry</th>\n",
       "      <th>addr:city</th>\n",
       "      <th>addr:housename</th>\n",
       "      <th>addr:housenumber</th>\n",
       "      <th>addr:postcode</th>\n",
       "      <th>...</th>\n",
       "      <th>amenity:disused</th>\n",
       "      <th>price</th>\n",
       "      <th>name:fa</th>\n",
       "      <th>name:ko</th>\n",
       "      <th>photo</th>\n",
       "      <th>craft_beer</th>\n",
       "      <th>payment:contactless</th>\n",
       "      <th>old_old_name</th>\n",
       "      <th>terrace</th>\n",
       "      <th>ways</th>\n",
       "    </tr>\n",
       "  </thead>\n",
       "  <tbody>\n",
       "    <tr>\n",
       "      <th>0</th>\n",
       "      <td>node/451153</td>\n",
       "      <td>451153</td>\n",
       "      <td>node</td>\n",
       "      <td>restaurant</td>\n",
       "      <td>Central Restaurant</td>\n",
       "      <td>POINT (-0.19350 51.60203)</td>\n",
       "      <td>NaN</td>\n",
       "      <td>NaN</td>\n",
       "      <td>NaN</td>\n",
       "      <td>NaN</td>\n",
       "      <td>...</td>\n",
       "      <td>NaN</td>\n",
       "      <td>NaN</td>\n",
       "      <td>NaN</td>\n",
       "      <td>NaN</td>\n",
       "      <td>NaN</td>\n",
       "      <td>NaN</td>\n",
       "      <td>NaN</td>\n",
       "      <td>NaN</td>\n",
       "      <td>NaN</td>\n",
       "      <td>NaN</td>\n",
       "    </tr>\n",
       "    <tr>\n",
       "      <th>1</th>\n",
       "      <td>node/26544484</td>\n",
       "      <td>26544484</td>\n",
       "      <td>node</td>\n",
       "      <td>restaurant</td>\n",
       "      <td>Casuarina Tree</td>\n",
       "      <td>POINT (-0.17223 51.39801)</td>\n",
       "      <td>Mitcham</td>\n",
       "      <td>The Crown Inn</td>\n",
       "      <td>407</td>\n",
       "      <td>CR4 4BG</td>\n",
       "      <td>...</td>\n",
       "      <td>NaN</td>\n",
       "      <td>NaN</td>\n",
       "      <td>NaN</td>\n",
       "      <td>NaN</td>\n",
       "      <td>NaN</td>\n",
       "      <td>NaN</td>\n",
       "      <td>NaN</td>\n",
       "      <td>NaN</td>\n",
       "      <td>NaN</td>\n",
       "      <td>NaN</td>\n",
       "    </tr>\n",
       "    <tr>\n",
       "      <th>2</th>\n",
       "      <td>node/26604024</td>\n",
       "      <td>26604024</td>\n",
       "      <td>node</td>\n",
       "      <td>restaurant</td>\n",
       "      <td>Jin Li</td>\n",
       "      <td>POINT (-0.45855 51.52573)</td>\n",
       "      <td>Uxbridge</td>\n",
       "      <td>NaN</td>\n",
       "      <td>91</td>\n",
       "      <td>UB8 3NJ</td>\n",
       "      <td>...</td>\n",
       "      <td>NaN</td>\n",
       "      <td>NaN</td>\n",
       "      <td>NaN</td>\n",
       "      <td>NaN</td>\n",
       "      <td>NaN</td>\n",
       "      <td>NaN</td>\n",
       "      <td>NaN</td>\n",
       "      <td>NaN</td>\n",
       "      <td>NaN</td>\n",
       "      <td>NaN</td>\n",
       "    </tr>\n",
       "    <tr>\n",
       "      <th>3</th>\n",
       "      <td>node/26845558</td>\n",
       "      <td>26845558</td>\n",
       "      <td>node</td>\n",
       "      <td>restaurant</td>\n",
       "      <td>Old Tree Daiwan Bee</td>\n",
       "      <td>POINT (-0.13256 51.51105)</td>\n",
       "      <td>NaN</td>\n",
       "      <td>NaN</td>\n",
       "      <td>NaN</td>\n",
       "      <td>NaN</td>\n",
       "      <td>...</td>\n",
       "      <td>NaN</td>\n",
       "      <td>NaN</td>\n",
       "      <td>NaN</td>\n",
       "      <td>NaN</td>\n",
       "      <td>NaN</td>\n",
       "      <td>NaN</td>\n",
       "      <td>NaN</td>\n",
       "      <td>NaN</td>\n",
       "      <td>NaN</td>\n",
       "      <td>NaN</td>\n",
       "    </tr>\n",
       "    <tr>\n",
       "      <th>4</th>\n",
       "      <td>node/31098623</td>\n",
       "      <td>31098623</td>\n",
       "      <td>node</td>\n",
       "      <td>restaurant</td>\n",
       "      <td>The Unicorn</td>\n",
       "      <td>POINT (0.20053 51.58686)</td>\n",
       "      <td>Romford</td>\n",
       "      <td>NaN</td>\n",
       "      <td>91</td>\n",
       "      <td>RM2 5EL</td>\n",
       "      <td>...</td>\n",
       "      <td>NaN</td>\n",
       "      <td>NaN</td>\n",
       "      <td>NaN</td>\n",
       "      <td>NaN</td>\n",
       "      <td>NaN</td>\n",
       "      <td>NaN</td>\n",
       "      <td>NaN</td>\n",
       "      <td>NaN</td>\n",
       "      <td>NaN</td>\n",
       "      <td>NaN</td>\n",
       "    </tr>\n",
       "  </tbody>\n",
       "</table>\n",
       "<p>5 rows × 302 columns</p>\n",
       "</div>"
      ],
      "text/plain": [
       "       unique_id     osmid element_type     amenity                 name  \\\n",
       "0    node/451153    451153         node  restaurant   Central Restaurant   \n",
       "1  node/26544484  26544484         node  restaurant       Casuarina Tree   \n",
       "2  node/26604024  26604024         node  restaurant               Jin Li   \n",
       "3  node/26845558  26845558         node  restaurant  Old Tree Daiwan Bee   \n",
       "4  node/31098623  31098623         node  restaurant          The Unicorn   \n",
       "\n",
       "                    geometry addr:city addr:housename addr:housenumber  \\\n",
       "0  POINT (-0.19350 51.60203)       NaN            NaN              NaN   \n",
       "1  POINT (-0.17223 51.39801)   Mitcham  The Crown Inn              407   \n",
       "2  POINT (-0.45855 51.52573)  Uxbridge            NaN               91   \n",
       "3  POINT (-0.13256 51.51105)       NaN            NaN              NaN   \n",
       "4   POINT (0.20053 51.58686)   Romford            NaN               91   \n",
       "\n",
       "  addr:postcode  ... amenity:disused price name:fa name:ko photo craft_beer  \\\n",
       "0           NaN  ...             NaN   NaN     NaN     NaN   NaN        NaN   \n",
       "1       CR4 4BG  ...             NaN   NaN     NaN     NaN   NaN        NaN   \n",
       "2       UB8 3NJ  ...             NaN   NaN     NaN     NaN   NaN        NaN   \n",
       "3           NaN  ...             NaN   NaN     NaN     NaN   NaN        NaN   \n",
       "4       RM2 5EL  ...             NaN   NaN     NaN     NaN   NaN        NaN   \n",
       "\n",
       "  payment:contactless old_old_name terrace ways  \n",
       "0                 NaN          NaN     NaN  NaN  \n",
       "1                 NaN          NaN     NaN  NaN  \n",
       "2                 NaN          NaN     NaN  NaN  \n",
       "3                 NaN          NaN     NaN  NaN  \n",
       "4                 NaN          NaN     NaN  NaN  \n",
       "\n",
       "[5 rows x 302 columns]"
      ]
     },
     "execution_count": 2,
     "metadata": {},
     "output_type": "execute_result"
    }
   ],
   "source": [
    "# Set up query\n",
    "query = {'amenity':'restaurant'}\n",
    "\n",
    "# Run query\n",
    "restaurants_gdf = ox.pois.pois_from_place(\n",
    "            'Greater London, UK',\n",
    "            tags = query,\n",
    "            which_result=1)\n",
    "\n",
    "restaurants_gdf.head(5)"
   ]
  },
  {
   "cell_type": "markdown",
   "metadata": {},
   "source": [
    "## Visualise the Results"
   ]
  },
  {
   "cell_type": "code",
   "execution_count": 3,
   "metadata": {},
   "outputs": [
    {
     "data": {
      "text/plain": [
       "<matplotlib.legend.Legend at 0x7feca2dc45e0>"
      ]
     },
     "execution_count": 3,
     "metadata": {},
     "output_type": "execute_result"
    },
    {
     "data": {
      "image/png": "[encoded data removed]",
      "text/plain": [
       "<Figure size 1080x720 with 1 Axes>"
      ]
     },
     "metadata": {
      "needs_background": "light"
     },
     "output_type": "display_data"
    }
   ],
   "source": [
    "# Download London's Boundary\n",
    "london_gdf = ox.geocoder.geocode_to_gdf('Greater London, UK')\n",
    "\n",
    "# Set up a plot axis\n",
    "fig, ax = plt.subplots(figsize = (15,10))\n",
    "\n",
    "# Visualise both on the plot\n",
    "london_gdf.plot(ax = ax, alpha = 0.5)\n",
    "restaurants_gdf.plot(ax = ax, markersize = 1, color = 'red', alpha = 0.8, label = 'Restaurant \\nLocations')\n",
    "plt.legend()"
   ]
  },
  {
   "cell_type": "markdown",
   "metadata": {},
   "source": [
    "# Assembling Data"
   ]
  },
  {
   "cell_type": "markdown",
   "metadata": {},
   "source": [
    "OSMNX returns most restaurant properties as a single point (eg. Longitude / Latitude coordinates). However, a few are returned as polygons (a shape). This usually happens when the property is particularly large. Working with polygons is a lot more complicated than working with points, so below, we will work out the centre point of any polygons. We do this using Spapely."
   ]
  },
  {
   "cell_type": "code",
   "execution_count": 4,
   "metadata": {},
   "outputs": [],
   "source": [
    "from shapely.geometry.polygon import Polygon\n",
    "from shapely.geometry.multipolygon import MultiPolygon\n",
    "\n",
    "restaurants_gdf['geometry'] = restaurants_gdf['geometry'].apply(\n",
    "  lambda x: x.centroid if type(x) == Polygon else (\n",
    "  x.centroid if type(x) == MultiPolygon else x)\n",
    ")"
   ]
  },
  {
   "cell_type": "markdown",
   "metadata": {},
   "source": [
    "### Converting Local Projections\n",
    "Before we carry out any calculations we need to convert our point coordinates to a local projection. As you know, the earth is a sphere. A projection is a method of flattening the surface of the earth so we can display it on a map. The problem, however, is that there is no way to flatten the surface of a sphere in a way that all parts are sized proportionately equal.\n",
    "\n",
    "The only way to get around this is to find a projection that makes the specific part of the world that you are interested in proportionately equal. These are called local UTM Coordinate Referencing System (CRS). Fortunately, OSMnx has a method built into it that allows us to find the correct local UTM."
   ]
  },
  {
   "cell_type": "code",
   "execution_count": 5,
   "metadata": {},
   "outputs": [
    {
     "data": {
      "text/plain": [
       "<Projected CRS: +proj=utm +zone=30 +ellps=WGS84 +datum=WGS84 +unit ...>\n",
       "Name: unknown\n",
       "Axis Info [cartesian]:\n",
       "- E[east]: Easting (metre)\n",
       "- N[north]: Northing (metre)\n",
       "Area of Use:\n",
       "- undefined\n",
       "Coordinate Operation:\n",
       "- name: UTM zone 30N\n",
       "- method: Transverse Mercator\n",
       "Datum: World Geodetic System 1984\n",
       "- Ellipsoid: WGS 84\n",
       "- Prime Meridian: Greenwich"
      ]
     },
     "execution_count": 5,
     "metadata": {},
     "output_type": "execute_result"
    }
   ],
   "source": [
    "def get_local_crs(y,x):\n",
    "    x = ox.utils_geo.bbox_from_point((y, x), dist = 500, project_utm = True, return_crs = True)\n",
    "    return x[-1]\n",
    "\n",
    "lon_latitude = 51.509865\n",
    "lon_longitude = -0.118092\n",
    "local_utm_crs = get_local_crs(lon_latitude, lon_longitude)\n",
    "\n",
    "local_utm_crs"
   ]
  },
  {
   "cell_type": "markdown",
   "metadata": {},
   "source": [
    "Next we import our AirBnb room data and convert it into a Geographic dataframe."
   ]
  },
  {
   "cell_type": "code",
   "execution_count": 6,
   "metadata": {},
   "outputs": [],
   "source": [
    "# Create a Geographic data of our \n",
    "air_df = pd.read_csv('airbnb_rooms.csv')\n",
    "\n",
    "# Note below: \"crs = 4326\" is our way of telling geopandas that the initial projection uses the standard\n",
    "# longitude latitude coordinates. You can't manipulate the CRS if you haven't set one initially.\n",
    "\n",
    "air_gdf = gpd.GeoDataFrame(air_df, geometry = gpd.points_from_xy(air_df.longitude, air_df.latitude), crs = 4326)\n",
    "air_gdf = air_gdf.to_crs(local_utm_crs)\n",
    "\n",
    "#Convert amenities into local projection (amenities already had an initial CRS set when we downloaded it via OSMnx)\n",
    "restaurants_gdf = restaurants_gdf.to_crs(local_utm_crs)"
   ]
  },
  {
   "cell_type": "markdown",
   "metadata": {},
   "source": [
    "### Calculating Distance Using a KDTree\n",
    "So next, we need to iterate through each AirBnb property and work out how many restaurants there are within a 10 minute walk (approximately 1km). \n",
    "I do this using a K-D Tree. Explaining how K-D Trees work is outside the scope of this article, but in short, they're a super efficient way of searching through our 80,000 AirBnb rooms and 6,000 restaurants and figuring out which ones are close to which. First we set up the tree of all restaurant points."
   ]
  },
  {
   "cell_type": "code",
   "execution_count": 30,
   "metadata": {},
   "outputs": [],
   "source": [
    "import time\n",
    "from scipy import spatial\n",
    "from scipy.spatial import KDTree\n",
    "\n",
    "# Turn long/lats into an array for Scipy\n",
    "Lon = restaurants_gdf.geometry.apply(lambda x: x.x).values\n",
    "Lat = restaurants_gdf.geometry.apply(lambda x: x.y).values\n",
    "coords = list(zip(Lat,Lon))\n",
    "\n",
    "tree = spatial.KDTree(coords) # Create a KDTree of all tube stations"
   ]
  },
  {
   "cell_type": "markdown",
   "metadata": {},
   "source": [
    "Then we create a function which we will run on each of our AirBnb rooms. The function will query the tree, and find the 500 closest restaurants along with calculating their distances from the AirBnb property. We use a figure of 500 in the hope that no property has more than 500 restaurants close to it."
   ]
  },
  {
   "cell_type": "code",
   "execution_count": 31,
   "metadata": {},
   "outputs": [],
   "source": [
    "def find_points_closeby(lat_lon, k = 500, max_distance = 1000 ):\n",
    "  '''\n",
    "  Queries a pre-existing kd tree and returns the number of points within x distance\n",
    "  of long/lat point.\n",
    "  lat_lon:        A longitude and latitude pairings in the (y, x) tuple form.\n",
    "  k:              The maximum number of closest points to query\n",
    "  max_distance:   The maximum distance (in meters)\n",
    "  '''\n",
    "  \n",
    "  results = tree.query((lat_lon), k = k, distance_upper_bound= max_distance)\n",
    "  zipped_results = list(zip(results[0], results[1]))\n",
    "  zipped_results = [i for i in zipped_results if i[0] != np.inf]\n",
    "  \n",
    "  return len(zipped_results)"
   ]
  },
  {
   "cell_type": "markdown",
   "metadata": {},
   "source": [
    "And finally, we set up a timer and apply the function to each AirBnb row"
   ]
  },
  {
   "cell_type": "code",
   "execution_count": 32,
   "metadata": {},
   "outputs": [
    {
     "name": "stdout",
     "output_type": "stream",
     "text": [
      "Completed in 95.89 seconds\n"
     ]
    }
   ],
   "source": [
    "# Set up a timer \n",
    "import time \n",
    "t0 = time.time()\n",
    "\n",
    "#Apply the function\n",
    "air_gdf['restaurants'] = air_gdf.apply(lambda row: find_points_closeby(\n",
    "  (row.geometry.y, row.geometry.x)) , axis = 1)\n",
    "\n",
    "# Report the time\n",
    "time_passed = round(time.time() - t0, 2)\n",
    "print (\"Completed in %s seconds\" % (time_passed))"
   ]
  },
  {
   "cell_type": "markdown",
   "metadata": {},
   "source": [
    "You now know how many restaurants there are within a 10-minute walk of each AirBnb property. You could repeat this process for bars, shops, subway stations, tourist hotspots, public parks, and whatever else you think may influence the price of an AirBnb property"
   ]
  },
  {
   "cell_type": "code",
   "execution_count": 36,
   "metadata": {},
   "outputs": [
    {
     "data": {
      "text/html": [
       "<div>\n",
       "<style scoped>\n",
       "    .dataframe tbody tr th:only-of-type {\n",
       "        vertical-align: middle;\n",
       "    }\n",
       "\n",
       "    .dataframe tbody tr th {\n",
       "        vertical-align: top;\n",
       "    }\n",
       "\n",
       "    .dataframe thead th {\n",
       "        text-align: right;\n",
       "    }\n",
       "</style>\n",
       "<table border=\"1\" class=\"dataframe\">\n",
       "  <thead>\n",
       "    <tr style=\"text-align: right;\">\n",
       "      <th></th>\n",
       "      <th>id</th>\n",
       "      <th>restaurants</th>\n",
       "    </tr>\n",
       "  </thead>\n",
       "  <tbody>\n",
       "    <tr>\n",
       "      <th>0</th>\n",
       "      <td>13913</td>\n",
       "      <td>39</td>\n",
       "    </tr>\n",
       "    <tr>\n",
       "      <th>1</th>\n",
       "      <td>15400</td>\n",
       "      <td>108</td>\n",
       "    </tr>\n",
       "    <tr>\n",
       "      <th>2</th>\n",
       "      <td>17402</td>\n",
       "      <td>335</td>\n",
       "    </tr>\n",
       "    <tr>\n",
       "      <th>3</th>\n",
       "      <td>25023</td>\n",
       "      <td>1</td>\n",
       "    </tr>\n",
       "    <tr>\n",
       "      <th>4</th>\n",
       "      <td>25123</td>\n",
       "      <td>6</td>\n",
       "    </tr>\n",
       "  </tbody>\n",
       "</table>\n",
       "</div>"
      ],
      "text/plain": [
       "      id  restaurants\n",
       "0  13913           39\n",
       "1  15400          108\n",
       "2  17402          335\n",
       "3  25023            1\n",
       "4  25123            6"
      ]
     },
     "execution_count": 36,
     "metadata": {},
     "output_type": "execute_result"
    }
   ],
   "source": [
    "air_gdf[['id','restaurants']].head(5)"
   ]
  }
 ],
 "metadata": {
  "kernelspec": {
   "display_name": "Python 3",
   "language": "python",
   "name": "python3"
  },
  "language_info": {
   "codemirror_mode": {
    "name": "ipython",
    "version": 3
   },
   "file_extension": ".py",
   "mimetype": "text/x-python",
   "name": "python",
   "nbconvert_exporter": "python",
   "pygments_lexer": "ipython3",
   "version": "3.8.3"
  }
 },
 "nbformat": 4,
 "nbformat_minor": 4
}
